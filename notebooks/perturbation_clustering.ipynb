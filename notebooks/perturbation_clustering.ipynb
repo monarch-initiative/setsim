{
 "cells": [
  {
   "cell_type": "markdown",
   "id": "d08c90a9-e93f-4a35-82e5-4681b41fb527",
   "metadata": {},
   "source": [
    "### This code block is mostly taken from the tutorial"
   ]
  },
  {
   "cell_type": "markdown",
   "id": "cc5568492b6798d2",
   "metadata": {
    "collapsed": false
   },
   "source": [
    "##### @ben There seems to be a test failing here on commit 63dca8bd5358515999086d8436bec2a6cf82e6fb\n",
    "#### `FAILED tests/benchmark/test_matrix.py::TestBenchmark::test_matrix - ValueError: Root HP:0000118 is not in provided HPO!`\n",
    "#### `================== 1 failed, 32 passed, 12 warnings in 14.15s ==================`"
   ]
  },
  {
   "cell_type": "code",
   "execution_count": 7,
   "id": "50b668c213056027",
   "metadata": {
    "collapsed": false,
    "ExecuteTime": {
     "end_time": "2024-05-22T23:20:16.895684Z",
     "start_time": "2024-05-22T23:20:16.829761Z"
    }
   },
   "outputs": [
    {
     "name": "stderr",
     "output_type": "stream",
     "text": [
      "HEAD is now at c198254a BCKDHB\n"
     ]
    },
    {
     "data": {
      "text/plain": "CompletedProcess(args=['git', 'checkout', 'c198254a3058478f82c9d4cfe46abe37c897db36'], returncode=0)"
     },
     "execution_count": 7,
     "metadata": {},
     "output_type": "execute_result"
    }
   ],
   "source": [
    "import os\n",
    "import urllib.request\n",
    "import subprocess\n",
    "\n",
    "# URLs for resources\n",
    "hp_json_url = 'https://github.com/obophenotype/human-phenotype-ontology/releases/download/v2024-04-26/hp.json'\n",
    "hpoa_url = 'https://github.com/obophenotype/human-phenotype-ontology/releases/download/v2024-04-26/phenotype.hpoa'\n",
    "phenpacket_store_github_url = 'https://github.com/monarch-initiative/phenopacket-store.git'\n",
    "phenpacket_store_github_commit = 'c198254a3058478f82c9d4cfe46abe37c897db36'\n",
    "\n",
    "# Paths for downloaded files and cloned repository\n",
    "fpath_hpo = os.path.join(os.getcwd(), 'data/hp.json')\n",
    "fpath_hpoa = os.path.join(os.getcwd(), 'data/phenotype.hpoa')\n",
    "clone_dir = os.path.join(os.getcwd(), 'data/phenopacket-store')\n",
    "fpath_phenopackets = os.path.join(clone_dir, 'notebooks')\n",
    "\n",
    "# Download hp.json if necessary\n",
    "if not os.path.exists(fpath_hpo):\n",
    "    os.makedirs(os.path.dirname(fpath_hpo), exist_ok=True)\n",
    "    urllib.request.urlretrieve(hp_json_url, fpath_hpo)\n",
    "\n",
    "# Download phenotype.hpoa if necessary\n",
    "if not os.path.exists(fpath_hpoa):\n",
    "    os.makedirs(os.path.dirname(fpath_hpoa), exist_ok=True)\n",
    "    urllib.request.urlretrieve(hpoa_url, fpath_hpoa)\n",
    "\n",
    "# Clone the phenopacket-store repository if necessary\n",
    "if not os.path.exists(clone_dir):\n",
    "    subprocess.run(['git', 'clone', phenpacket_store_github_url, clone_dir])\n",
    "\n",
    "# Check out the specific commit\n",
    "subprocess.run(['git', 'checkout', phenpacket_store_github_commit], cwd=clone_dir)"
   ]
  },
  {
   "cell_type": "code",
   "execution_count": 8,
   "id": "d0be10e2-a0db-4df3-a0f4-b96a81b302a2",
   "metadata": {
    "ExecuteTime": {
     "end_time": "2024-05-22T23:20:41.127229Z",
     "start_time": "2024-05-22T23:20:20.112017Z"
    }
   },
   "outputs": [
    {
     "name": "stdout",
     "output_type": "stream",
     "text": [
      "There are 146 common terms with IC equal to or less than ln(10) (2.302585092994046).\n",
      "The samples have an average of 8.561818181818182 terms after removing ancestors and duplicates.\n",
      "The noisy samples (with 20 random common terms added) have an average of 22.257979797979797 terms after removing ancestors and duplicates.\n"
     ]
    }
   ],
   "source": [
    "import sys \n",
    "\n",
    "# Add the src directory to the Python path\n",
    "src_path = os.path.abspath(os.path.join(os.getcwd(), '../src'))\n",
    "if src_path not in sys.path:\n",
    "    sys.path.append(src_path)\n",
    "\n",
    "import sys\n",
    "import os\n",
    "from hpotk.ontology.load.obographs import load_minimal_ontology\n",
    "from hpotk.ontology import MinimalOntology\n",
    "\n",
    "from setsim.io import read_folder, read_hpoa\n",
    "import warnings\n",
    "\n",
    "# Import hpo.json file\n",
    "hpo: MinimalOntology = load_minimal_ontology(fpath_hpo)\n",
    "\n",
    "# Import samples. Recursive import finds phenopackets in subfolders.\n",
    "# read_folder and read_hpoa will generate warnings from phenopackets with redundant terms (ancestors of other included terms)\n",
    "# and terms that cannot be read. We will filter warnings for this step to silence these.\n",
    "warnings.filterwarnings('ignore')\n",
    "samples = read_folder(fpath_phenopackets, hpo, recursive=True)\n",
    "\n",
    "# Samples with no features should always have a similarity of 0. We will remove them to avoid problems.\n",
    "samples = [sample for sample in samples if len(sample.phenotypic_features) > 0]\n",
    "\n",
    "# Import diseases in a similar format to samples (individuals).\n",
    "diseases = read_hpoa(fpath_hpoa, hpo)\n",
    "\n",
    "# Turn warnings back to default\n",
    "warnings.filterwarnings('default')\n",
    "\n",
    "from setsim.sim import IcCalculator, IcTransformer\n",
    "\n",
    "# The IcCalculator class object will be used to create a dictionary with term ids and ic values.\n",
    "# IC values are calculated as the base 10 log of the number of diseases divided by the number of diseases annotated with that term.\n",
    "# Diseases are annotated with a term when the disease is annotated with that term or any of its descendants.\n",
    "calc = IcCalculator(hpo, multiprocess=True, progress_bar=True)\n",
    "ic_dict = calc.calculate_ic_from_diseases(diseases) # alternatively \"calculate_ic_from_samples\" can be used to calculate ic using feature \n",
    "                                                    # prevalence in samples.\n",
    "\n",
    "import math\n",
    "import random\n",
    "from statistics import mean\n",
    "from setsim.model import Sample\n",
    "\n",
    "common_terms = [term for term in ic_dict.keys() if ic_dict[term] <= math.log(10)]\n",
    "noisy_samples = []\n",
    "for sample in samples:\n",
    "    noisy_features = list(sample.phenotypic_features) + list(random.sample(common_terms, 20))\n",
    "    noisy_label = sample.label + \"noisy\"\n",
    "    noisy_samples.append(\n",
    "        Sample(label=noisy_label, phenotypic_features=noisy_features, disease_identifier=sample.disease_identifier,\n",
    "               hpo=hpo))\n",
    "\n",
    "print(f\"There are {len(common_terms)} common terms with IC equal to or less than ln(10) ({math.log(10)}).\")\n",
    "print(f'The samples have an average of {mean([len(sample.phenotypic_features) for sample in samples])} terms after removing ancestors and duplicates.')\n",
    "print(f'The noisy samples (with 20 random common terms added) have an average of {mean([len(sample.phenotypic_features) for sample in noisy_samples])} terms after removing ancestors and duplicates.')"
   ]
  },
  {
   "cell_type": "markdown",
   "id": "e31b7c01-701e-4640-b30f-9f3871609bda",
   "metadata": {},
   "source": [
    "### Get a list of diseases from the diagnoses of the patients in phenopacket-store"
   ]
  },
  {
   "cell_type": "code",
   "execution_count": 10,
   "id": "a6a191fa-0614-459b-a601-533627451e4a",
   "metadata": {
    "ExecuteTime": {
     "end_time": "2024-05-22T23:21:47.655090Z",
     "start_time": "2024-05-22T23:21:47.645397Z"
    }
   },
   "outputs": [
    {
     "data": {
      "text/plain": "{'OMIM:620371': 14,\n 'OMIM:150250': 3,\n 'OMIM:620375': 15,\n 'OMIM:119600': 8,\n 'OMIM:102700': 2,\n 'OMIM:617146': 11,\n 'OMIM:614608': 15,\n 'OMIM:609322': 2,\n 'OMIM:620510': 4,\n 'OMIM:610168': 21,\n 'OMIM:610759': 3,\n 'OMIM:620465': 24,\n 'OMIM:115200': 43,\n 'OMIM:176670': 15,\n 'OMIM:613205': 15,\n 'OMIM:181350': 41,\n 'OMIM:151660': 12,\n 'OMIM:620459': 7,\n 'OMIM:216400': 10,\n 'OMIM:121050': 14,\n 'OMIM:258480': 9,\n 'OMIM:620632': 2,\n 'OMIM:147791': 69,\n 'OMIM:620455': 15,\n 'OMIM:142900': 99,\n 'OMIM:620427': 3,\n 'OMIM:620558': 7,\n 'OMIM:615473': 2,\n 'OMIM:620646': 3,\n 'OMIM:616211': 43,\n 'OMIM:614322': 6,\n 'OMIM:601553': 2,\n 'OMIM:620542': 8,\n 'OMIM:620654': 5,\n 'OMIM:301114': 1,\n 'OMIM:613224': 14,\n 'OMIM:620636': 2,\n 'OMIM:620666': 16,\n 'OMIM:158810': 4,\n 'OMIM:613454': 4,\n 'OMIM:615582': 41,\n 'OMIM:609053': 4,\n 'OMIM:616325': 8,\n 'OMIM:148050': 333,\n 'OMIM:616462': 18,\n 'OMIM:620675': 4,\n 'OMIM:610968': 2,\n 'OMIM:277300': 3,\n 'OMIM:300804': 9,\n 'OMIM:311200': 7,\n 'OMIM:616362': 60,\n 'OMIM:614816': 34,\n 'OMIM:162200': 7,\n 'OMIM:620698': 3,\n 'OMIM:256540': 1,\n 'OMIM:618164': 45,\n 'OMIM:616829': 10,\n 'OMIM:620669': 5,\n 'OMIM:209900': 13,\n 'OMIM:620511': 11,\n 'OMIM:620417': 1,\n 'OMIM:620416': 2,\n 'OMIM:616900': 23,\n 'OMIM:620670': 11,\n 'OMIM:620674': 1,\n 'OMIM:620515': 10,\n 'OMIM:620681': 22,\n 'OMIM:256810': 50,\n 'OMIM:301115': 6,\n 'OMIM:620367': 4,\n 'OMIM:301310': 18,\n 'OMIM:608393': 4,\n 'OMIM:175700': 50,\n 'OMIM:146510': 21,\n 'OMIM:174200': 10,\n 'OMIM:144200': 1,\n 'OMIM:305400': 16,\n 'OMIM:159550': 20,\n 'OMIM:620565': 2,\n 'OMIM:613254': 2,\n 'OMIM:618000': 5,\n 'OMIM:105650': 11,\n 'OMIM:620679': 3,\n 'OMIM:147920': 62,\n 'OMIM:607330': 3,\n 'OMIM:215470': 10,\n 'OMIM:275400': 7,\n 'OMIM:606889': 3,\n 'OMIM:620504': 8,\n 'OMIM:148820': 2,\n 'OMIM:234200': 15,\n 'OMIM:617527': 14,\n 'OMIM:252650': 2,\n 'OMIM:113620': 7,\n 'OMIM:605911': 29,\n 'OMIM:273900': 8,\n 'OMIM:617403': 3,\n 'OMIM:620546': 4,\n 'OMIM:260300': 12,\n 'OMIM:608415': 5,\n 'OMIM:620537': 22,\n 'OMIM:240300': 17,\n 'OMIM:231670': 7,\n 'OMIM:620683': 7,\n 'OMIM:620601': 2,\n 'OMIM:615878': 1,\n 'OMIM:620157': 13,\n 'OMIM:616831': 4,\n 'OMIM:620155': 12,\n 'OMIM:620734': 2,\n 'OMIM:179800': 18,\n 'OMIM:612653': 7,\n 'OMIM:611590': 7,\n 'OMIM:185020': 1,\n 'OMIM:617865': 7,\n 'OMIM:603671': 9,\n 'OMIM:123000': 5,\n 'OMIM:614931': 6,\n 'OMIM:618505': 73,\n 'OMIM:608776': 6,\n 'OMIM:618362': 60,\n 'OMIM:301111': 29,\n 'OMIM:616249': 2,\n 'OMIM:620712': 3,\n 'OMIM:132800': 18,\n 'OMIM:609192': 11,\n 'OMIM:616975': 19,\n 'OMIM:605275': 20,\n 'OMIM:137920': 3,\n 'OMIM:268310': 25,\n 'OMIM:606693': 34,\n 'OMIM:617225': 11,\n 'OMIM:620603': 4,\n 'OMIM:618443': 20,\n 'OMIM:603553': 3,\n 'OMIM:609622': 4,\n 'OMIM:613795': 47,\n 'OMIM:139210': 12,\n 'OMIM:154500': 4,\n 'OMIM:163800': 6,\n 'OMIM:604187': 5,\n 'OMIM:620688': 13,\n 'OMIM:619656': 16,\n 'OMIM:620774': 4,\n 'OMIM:154700': 53,\n 'OMIM:102370': 14,\n 'OMIM:129600': 44,\n 'OMIM:616914': 17,\n 'OMIM:614185': 19,\n 'OMIM:184900': 8,\n 'OMIM:620732': 4,\n 'OMIM:604377': 30,\n 'OMIM:608910': 1,\n 'OMIM:608909': 1,\n 'OMIM:608913': 1,\n 'OMIM:608912': 1,\n 'OMIM:608908': 1,\n 'OMIM:608911': 1,\n 'OMIM:222300': 10,\n 'OMIM:604841': 2,\n 'OMIM:188400': 5,\n 'OMIM:614959': 8,\n 'OMIM:600920': 6,\n 'OMIM:616370': 16,\n 'OMIM:620647': 5,\n 'OMIM:615982': 4,\n 'OMIM:227645': 4,\n 'OMIM:609637': 2,\n 'OMIM:617425': 14,\n 'OMIM:620402': 6,\n 'OMIM:620651': 2,\n 'OMIM:617560': 33,\n 'OMIM:620538': 28,\n 'OMIM:620528': 14,\n 'OMIM:620540': 20,\n 'OMIM:613477': 22,\n 'OMIM:615981': 4,\n 'OMIM:620686': 5,\n 'OMIM:615983': 4,\n 'OMIM:613717': 10,\n 'OMIM:620653': 7,\n 'OMIM:620458': 5,\n 'OMIM:600138': 9,\n 'OMIM:620668': 2,\n 'OMIM:606574': 30,\n 'OMIM:620744': 3,\n 'OMIM:620779': 3,\n 'OMIM:620714': 2,\n 'OMIM:620662': 5,\n 'OMIM:620663': 5,\n 'OMIM:601144': 2,\n 'OMIM:620728': 5,\n 'OMIM:620726': 3,\n 'OMIM:131100': 1,\n 'OMIM:215700': 5,\n 'OMIM:272300': 34,\n 'OMIM:219100': 5,\n 'OMIM:620456': 3,\n 'OMIM:620568': 18,\n 'OMIM:243700': 13,\n 'OMIM:617140': 52,\n 'OMIM:620629': 2,\n 'OMIM:620780': 4,\n 'OMIM:601674': 19,\n 'OMIM:620535': 49,\n 'OMIM:618499': 3,\n 'OMIM:241850': 7,\n 'OMIM:620570': 6,\n 'OMIM:242840': 17,\n 'OMIM:620745': 8,\n 'OMIM:620344': 5,\n 'OMIM:620519': 14,\n 'OMIM:620703': 2,\n 'OMIM:248250': 46,\n 'OMIM:613826': 113,\n 'OMIM:608194': 17,\n 'OMIM:620494': 12,\n 'OMIM:601718': 1,\n 'OMIM:614199': 13,\n 'OMIM:620772': 2,\n 'OMIM:620423': 9,\n 'OMIM:617123': 4,\n 'OMIM:620449': 3,\n 'OMIM:616907': 14,\n 'OMIM:602400': 4,\n 'OMIM:615066': 3,\n 'OMIM:616354': 9,\n 'OMIM:101200': 2,\n 'OMIM:154400': 25,\n 'OMIM:620430': 3,\n 'OMIM:613721': 342,\n 'OMIM:607745': 51,\n 'OMIM:616840': 4,\n 'OMIM:231200': 2,\n 'OMIM:259440': 1,\n 'OMIM:182290': 2,\n 'OMIM:306955': 1,\n 'OMIM:171400': 1,\n 'OMIM:617452': 1,\n 'OMIM:300707': 1,\n 'OMIM:617668': 1,\n 'OMIM:193700': 1,\n 'OMIM:617333': 1,\n 'OMIM:616878': 6,\n 'OMIM:142946': 1,\n 'OMIM:220400': 1,\n 'OMIM:104530': 1,\n 'OMIM:602398': 1,\n 'OMIM:309300': 1,\n 'OMIM:102500': 1,\n 'OMIM:230740': 1,\n 'OMIM:122470': 2,\n 'OMIM:616974': 2,\n 'OMIM:203290': 1,\n 'OMIM:606324': 1,\n 'OMIM:617297': 1,\n 'OMIM:162500': 1,\n 'OMIM:615193': 1,\n 'OMIM:214800': 2,\n 'OMIM:613849': 1,\n 'OMIM:614321': 1,\n 'OMIM:116920': 1,\n 'OMIM:617694': 1,\n 'OMIM:604804': 1,\n 'OMIM:161800': 1,\n 'OMIM:301040': 1,\n 'OMIM:250410': 4,\n 'OMIM:160150': 1,\n 'OMIM:214500': 1,\n 'OMIM:300352': 1,\n 'OMIM:607259': 1,\n 'OMIM:617516': 4,\n 'OMIM:604213': 1,\n 'OMIM:257220': 1,\n 'OMIM:612690': 1,\n 'OMIM:131300': 1,\n 'OMIM:191100': 2,\n 'OMIM:600373': 2,\n 'OMIM:148600': 1,\n 'OMIM:200150': 1,\n 'OMIM:602849': 1,\n 'OMIM:613990': 1,\n 'OMIM:270420': 1,\n 'OMIM:617180': 1,\n 'OMIM:177170': 2,\n 'OMIM:616868': 1,\n 'OMIM:617730': 1,\n 'OMIM:616395': 1,\n 'OMIM:609942': 1,\n 'OMIM:230400': 1,\n 'OMIM:604772': 1,\n 'OMIM:601776': 1,\n 'OMIM:133540': 2,\n 'OMIM:222470': 1,\n 'OMIM:304110': 1,\n 'OMIM:601098': 1,\n 'OMIM:167320': 1,\n 'OMIM:271640': 1,\n 'OMIM:601399': 1,\n 'OMIM:613684': 2,\n 'OMIM:609528': 1,\n 'OMIM:602522': 1,\n 'OMIM:300867': 1,\n 'OMIM:226700': 2,\n 'OMIM:604173': 1,\n 'OMIM:614833': 1,\n 'OMIM:130600': 1,\n 'OMIM:605130': 1,\n 'OMIM:305100': 1,\n 'OMIM:118450': 1,\n 'OMIM:115150': 1,\n 'OMIM:212050': 1,\n 'OMIM:236200': 2,\n 'OMIM:187900': 1,\n 'OMIM:230650': 1,\n 'OMIM:609260': 1,\n 'OMIM:601414': 1,\n 'OMIM:616516': 1,\n 'OMIM:105120': 1,\n 'OMIM:617433': 2,\n 'OMIM:614104': 1,\n 'OMIM:260000': 1,\n 'OMIM:614249': 1,\n 'OMIM:228600': 1,\n 'OMIM:606854': 1,\n 'OMIM:261100': 1,\n 'OMIM:617616': 1,\n 'OMIM:147060': 1,\n 'OMIM:601977': 1,\n 'OMIM:302350': 1,\n 'OMIM:174300': 1,\n 'OMIM:615120': 1,\n 'OMIM:604145': 1,\n 'OMIM:191900': 1,\n 'OMIM:616224': 1,\n 'OMIM:613162': 1,\n 'OMIM:277700': 1,\n 'OMIM:159950': 1,\n 'OMIM:611431': 1,\n 'OMIM:602875': 1,\n 'OMIM:107480': 1,\n 'OMIM:277600': 1,\n 'OMIM:135150': 1,\n 'OMIM:245200': 1,\n 'OMIM:610687': 1,\n 'OMIM:269150': 1,\n 'OMIM:130000': 1,\n 'OMIM:613750': 1,\n 'OMIM:612840': 1,\n 'OMIM:105400': 1,\n 'OMIM:103500': 1,\n 'OMIM:266265': 1,\n 'OMIM:612164': 464,\n 'OMIM:190350': 1,\n 'OMIM:615220': 1,\n 'OMIM:146000': 1,\n 'OMIM:175200': 1,\n 'OMIM:246200': 1,\n 'OMIM:613268': 1,\n 'OMIM:203200': 1,\n 'OMIM:270400': 1,\n 'OMIM:223800': 1,\n 'OMIM:149400': 1,\n 'OMIM:135100': 1,\n 'OMIM:201300': 1,\n 'OMIM:615688': 1,\n 'OMIM:245000': 1,\n 'OMIM:608716': 1,\n 'OMIM:610031': 1,\n 'OMIM:120970': 1,\n 'OMIM:130010': 1,\n 'OMIM:616973': 1,\n 'OMIM:108300': 1,\n 'OMIM:618089': 1,\n 'OMIM:613115': 1,\n 'OMIM:600974': 1,\n 'OMIM:610915': 1,\n 'OMIM:231050': 1,\n 'OMIM:160800': 1,\n 'OMIM:605282': 1,\n 'OMIM:256300': 1,\n 'OMIM:615516': 1,\n 'OMIM:614021': 1,\n 'OMIM:616638': 1,\n 'OMIM:251260': 1,\n 'OMIM:617622': 1,\n 'OMIM:601869': 1,\n 'OMIM:161200': 1,\n 'OMIM:614739': 1,\n 'OMIM:609284': 1,\n 'OMIM:609285': 1,\n 'OMIM:609200': 1,\n 'OMIM:601088': 1,\n 'OMIM:602342': 1,\n 'OMIM:612940': 1,\n 'OMIM:208920': 1,\n 'OMIM:617232': 1,\n 'OMIM:252500': 1,\n 'OMIM:601859': 1,\n 'OMIM:162000': 1,\n 'OMIM:232700': 1,\n 'OMIM:614923': 6,\n 'OMIM:301116': 3,\n 'OMIM:620450': 10,\n 'OMIM:620502': 4,\n 'OMIM:615502': 46,\n 'OMIM:620641': 4,\n 'OMIM:615471': 95,\n 'OMIM:617478': 9,\n 'OMIM:620545': 5,\n 'OMIM:611182': 4,\n 'OMIM:620680': 2,\n 'OMIM:619375': 20,\n 'OMIM:612313': 157,\n 'OMIM:620642': 3,\n 'OMIM:620460': 11,\n 'OMIM:620655': 6,\n 'OMIM:616247': 4,\n 'OMIM:300088': 7,\n 'OMIM:617402': 6,\n 'OMIM:216550': 2,\n 'OMIM:620376': 4,\n 'OMIM:620748': 3,\n 'OMIM:620451': 7,\n 'OMIM:620428': 15,\n 'OMIM:620475': 8,\n 'OMIM:130050': 35,\n 'OMIM:618343': 6,\n 'OMIM:117360': 2,\n 'OMIM:151100': 31,\n 'OMIM:163950': 27,\n 'OMIM:156250': 12}"
     },
     "execution_count": 10,
     "metadata": {},
     "output_type": "execute_result"
    }
   ],
   "source": [
    "sample_disease_list = [sample.disease_identifier.identifier.value for sample in samples]\n",
    "disease_counts = dict()\n",
    "for disease in sample_disease_list:\n",
    "  disease_counts[disease] = disease_counts.get(disease, 0) + 1\n",
    "disease_counts"
   ]
  },
  {
   "cell_type": "markdown",
   "id": "d12821af-ff5b-460e-8f8c-1ca24e2564ce",
   "metadata": {},
   "source": [
    "### Identify diseases diagnosed to at least 30 individuals from phenopacket-store"
   ]
  },
  {
   "cell_type": "code",
   "execution_count": 16,
   "id": "6a0d0583-e383-45cf-9366-564ab85218da",
   "metadata": {
    "ExecuteTime": {
     "end_time": "2024-05-22T23:22:35.674474Z",
     "start_time": "2024-05-22T23:22:35.669618Z"
    }
   },
   "outputs": [],
   "source": [
    "disease30p_list = []\n",
    "for disease, n in disease_counts.items():\n",
    "    if n >= 30:\n",
    "        disease30p_list.append(disease)"
   ]
  },
  {
   "cell_type": "code",
   "execution_count": 17,
   "id": "1e039421-d370-48ed-90aa-fc8364f5a7a4",
   "metadata": {
    "ExecuteTime": {
     "end_time": "2024-05-22T23:22:37.147369Z",
     "start_time": "2024-05-22T23:22:37.143571Z"
    }
   },
   "outputs": [],
   "source": [
    "disease30p = [disease for disease in diseases if disease.identifier.value in disease30p_list]"
   ]
  },
  {
   "cell_type": "markdown",
   "id": "04ae5fcf-783d-427e-944f-1667c4764f37",
   "metadata": {},
   "source": [
    "### Create IC Dictionary using only the diseases without 30 people diagnosed\n",
    "(Consider skipping this step.)"
   ]
  },
  {
   "cell_type": "code",
   "execution_count": 18,
   "id": "84e9be04-6df2-4c9f-a5a9-25e60b77b14f",
   "metadata": {
    "ExecuteTime": {
     "end_time": "2024-05-22T23:22:38.819573Z",
     "start_time": "2024-05-22T23:22:38.814750Z"
    }
   },
   "outputs": [],
   "source": [
    "for disease in disease30p:\n",
    "    diseases.remove(disease)"
   ]
  },
  {
   "cell_type": "code",
   "execution_count": 19,
   "id": "1b22fd90-789e-4650-aeab-8b0c03e87626",
   "metadata": {
    "ExecuteTime": {
     "end_time": "2024-05-22T23:24:23.384070Z",
     "start_time": "2024-05-22T23:23:10.045512Z"
    }
   },
   "outputs": [],
   "source": [
    "# The IcCalculator class object will be used to create a dictionary with term ids and ic values.\n",
    "# IC values are calculated as the base 10 log of the number of diseases divided by the number of diseases annotated with that term.\n",
    "# Diseases are annotated with a term when the disease is annotated with that term or any of its descendants.\n",
    "calc = IcCalculator(hpo, multiprocess=True, progress_bar=True)\n",
    "ic_dict = calc.calculate_ic_from_diseases(diseases) # alternatively \"calculate_ic_from_samples\" can be used to calculate ic using feature \n",
    "                                                    # prevalence in samples.\n",
    "\n",
    "# The IcTransformer calculates the  conditional information for each term given its parents.\n",
    "# We only need to supply diseases if we are using the method, phrank, which requires additional information to approximate conditional information.\n",
    "transformer = IcTransformer(hpo, samples=diseases)\n",
    "delta_ic_dict = transformer.transform(ic_dict)\n",
    "bayes_ic_dict = transformer.transform(ic_dict, strategy=\"bayesian\") # Used for phrank"
   ]
  },
  {
   "cell_type": "markdown",
   "id": "3c08e707-3805-4688-9bc1-b6de0efe0776",
   "metadata": {},
   "source": [
    "### Identify individuals with one of the chosen diseases"
   ]
  },
  {
   "cell_type": "code",
   "execution_count": 20,
   "id": "4c341da9-b71f-45de-80be-fc68cc493e97",
   "metadata": {
    "ExecuteTime": {
     "end_time": "2024-05-22T23:24:26.744341Z",
     "start_time": "2024-05-22T23:24:26.740235Z"
    }
   },
   "outputs": [],
   "source": [
    "i = 0\n",
    "samples_30p = []\n",
    "for d_name in sample_disease_list:\n",
    "    if d_name in disease30p_list:\n",
    "        samples_30p.append(samples[i])\n",
    "    i = i + 1"
   ]
  },
  {
   "cell_type": "code",
   "execution_count": 21,
   "id": "73dfd212-3262-4b0c-aa2d-b3b8dd010a7a",
   "metadata": {
    "ExecuteTime": {
     "end_time": "2024-05-22T23:24:28.841647Z",
     "start_time": "2024-05-22T23:24:28.837216Z"
    }
   },
   "outputs": [
    {
     "data": {
      "text/plain": "35"
     },
     "execution_count": 21,
     "metadata": {},
     "output_type": "execute_result"
    }
   ],
   "source": [
    "len(set([d.disease_identifier.identifier.value for d in samples_30p]))"
   ]
  },
  {
   "cell_type": "code",
   "execution_count": 22,
   "id": "a9c7120d-219e-44d8-a3ae-61cce5d50b52",
   "metadata": {
    "ExecuteTime": {
     "end_time": "2024-05-22T23:24:33.142097Z",
     "start_time": "2024-05-22T23:24:33.136497Z"
    }
   },
   "outputs": [
    {
     "data": {
      "text/plain": "35"
     },
     "execution_count": 22,
     "metadata": {},
     "output_type": "execute_result"
    }
   ],
   "source": [
    "len(disease30p_list)"
   ]
  },
  {
   "cell_type": "markdown",
   "id": "0a70e642-aea4-40a1-af76-d5dc4a7e1798",
   "metadata": {},
   "source": [
    "## Run Clustering\n",
    "This should only need to be run twice. Once for normal patients (the subset with the 30p diseases) and once for the same patients with common terms added (noisy patients)."
   ]
  },
  {
   "cell_type": "code",
   "execution_count": 24,
   "id": "8defae8c-46c0-411d-b2dd-e8173baf389e",
   "metadata": {
    "ExecuteTime": {
     "end_time": "2024-05-22T23:25:01.871307Z",
     "start_time": "2024-05-22T23:24:59.219137Z"
    }
   },
   "outputs": [
    {
     "name": "stdout",
     "output_type": "stream",
     "text": [
      "There are 10 CPUs available for multiprocessing. Using 15 CPUs.\n"
     ]
    },
    {
     "name": "stderr",
     "output_type": "stream",
     "text": [
      "Diseases:   0%|          | 0/2889 [00:02<?, ?it/s]\n"
     ]
    },
    {
     "ename": "ValueError",
     "evalue": "Root HP:0000118 is not in provided HPO!",
     "output_type": "error",
     "traceback": [
      "\u001B[0;31m---------------------------------------------------------------------------\u001B[0m",
      "\u001B[0;31mRemoteTraceback\u001B[0m                           Traceback (most recent call last)",
      "\u001B[0;31mRemoteTraceback\u001B[0m: \n\"\"\"\nTraceback (most recent call last):\n  File \"/opt/homebrew/Cellar/python@3.12/3.12.3/Frameworks/Python.framework/Versions/3.12/lib/python3.12/multiprocessing/pool.py\", line 125, in worker\n    result = (True, func(*args, **kwds))\n                    ^^^^^^^^^^^^^^^^^^^\n  File \"/opt/homebrew/Cellar/python@3.12/3.12.3/Frameworks/Python.framework/Versions/3.12/lib/python3.12/multiprocessing/pool.py\", line 48, in mapstar\n    return list(map(*args))\n           ^^^^^^^^^^^^^^^^\n  File \"/Users/jtr4v/PythonProject/setsim/src/setsim/matrix/_similaritymatrix.py\", line 94, in _compute_across_methods\n    patient_dict = {**patient_dict, **self._compute_across_patients(method, sample)}\n                                      ^^^^^^^^^^^^^^^^^^^^^^^^^^^^^^^^^^^^^^^^^^^^^\n  File \"/Users/jtr4v/PythonProject/setsim/src/setsim/matrix/_similaritymatrix.py\", line 98, in _compute_across_patients\n    kernel = self._define_kernel(sample, similarity_method)\n             ^^^^^^^^^^^^^^^^^^^^^^^^^^^^^^^^^^^^^^^^^^^^^^\n  File \"/Users/jtr4v/PythonProject/setsim/src/setsim/matrix/_nulldistribution.py\", line 109, in _define_kernel\n    calc = IcCalculator(hpo=self.hpo, root=self.root, multiprocess=False)\n           ^^^^^^^^^^^^^^^^^^^^^^^^^^^^^^^^^^^^^^^^^^^^^^^^^^^^^^^^^^^^^^\n  File \"/Users/jtr4v/PythonProject/setsim/src/setsim/sim/_ic.py\", line 171, in __init__\n    raise ValueError(f'Root {root} is not in provided HPO!')\nValueError: Root HP:0000118 is not in provided HPO!\n\"\"\"",
      "\nThe above exception was the direct cause of the following exception:\n",
      "\u001B[0;31mValueError\u001B[0m                                Traceback (most recent call last)",
      "Cell \u001B[0;32mIn[24], line 19\u001B[0m\n\u001B[1;32m      5\u001B[0m \u001B[38;5;66;03m# Run Sim Matrix\u001B[39;00m\n\u001B[1;32m      6\u001B[0m sim_matrix \u001B[38;5;241m=\u001B[39m SimilarityMatrix(hpo\u001B[38;5;241m=\u001B[39mhpo,\n\u001B[1;32m      7\u001B[0m                               chunksize\u001B[38;5;241m=\u001B[39m\u001B[38;5;241m13\u001B[39m, \u001B[38;5;66;03m# Chunksize refers to the number of diseases per \"chunk\". \u001B[39;00m\n\u001B[1;32m      8\u001B[0m                                            \u001B[38;5;66;03m# Smaller chunksizes are often optimal because diseases with more features take longer to run.\u001B[39;00m\n\u001B[0;32m   (...)\u001B[0m\n\u001B[1;32m     17\u001B[0m                               multiprocess\u001B[38;5;241m=\u001B[39m\u001B[38;5;28;01mTrue\u001B[39;00m\n\u001B[1;32m     18\u001B[0m                               )\n\u001B[0;32m---> 19\u001B[0m results \u001B[38;5;241m=\u001B[39m \u001B[43msim_matrix\u001B[49m\u001B[38;5;241;43m.\u001B[39;49m\u001B[43mcompute_person2person_similarities\u001B[49m\u001B[43m(\u001B[49m\u001B[43msamples_30p\u001B[49m\u001B[43m)\u001B[49m\n",
      "File \u001B[0;32m~/PythonProject/setsim/src/setsim/matrix/_similaritymatrix.py:72\u001B[0m, in \u001B[0;36mSimilarityMatrix.compute_person2person_similarities\u001B[0;34m(self, samples)\u001B[0m\n\u001B[1;32m     70\u001B[0m \u001B[38;5;28;01mif\u001B[39;00m contains_disease_zero_features:\n\u001B[1;32m     71\u001B[0m     samples \u001B[38;5;241m=\u001B[39m [sample \u001B[38;5;28;01mfor\u001B[39;00m sample \u001B[38;5;129;01min\u001B[39;00m samples \u001B[38;5;28;01mif\u001B[39;00m \u001B[38;5;28mlen\u001B[39m(sample\u001B[38;5;241m.\u001B[39mphenotypic_features) \u001B[38;5;241m>\u001B[39m \u001B[38;5;241m0\u001B[39m]\n\u001B[0;32m---> 72\u001B[0m \u001B[38;5;28;01mreturn\u001B[39;00m \u001B[38;5;28;43mself\u001B[39;49m\u001B[38;5;241;43m.\u001B[39;49m\u001B[43m_compute_similarities\u001B[49m\u001B[43m(\u001B[49m\u001B[43msamples\u001B[49m\u001B[43m)\u001B[49m\n",
      "File \u001B[0;32m~/PythonProject/setsim/src/setsim/matrix/_similaritymatrix.py:81\u001B[0m, in \u001B[0;36mSimilarityMatrix._compute_similarities\u001B[0;34m(self, samples)\u001B[0m\n\u001B[1;32m     79\u001B[0m     \u001B[38;5;28;01mwith\u001B[39;00m multiprocessing\u001B[38;5;241m.\u001B[39mPool(processes\u001B[38;5;241m=\u001B[39m\u001B[38;5;28mself\u001B[39m\u001B[38;5;241m.\u001B[39mnum_cpus) \u001B[38;5;28;01mas\u001B[39;00m pool:\n\u001B[1;32m     80\u001B[0m         disease_dicts \u001B[38;5;241m=\u001B[39m pool\u001B[38;5;241m.\u001B[39mimap_unordered(\u001B[38;5;28mself\u001B[39m\u001B[38;5;241m.\u001B[39m_compute_across_methods, samples, chunksize\u001B[38;5;241m=\u001B[39m\u001B[38;5;28mself\u001B[39m\u001B[38;5;241m.\u001B[39mchunksize)\n\u001B[0;32m---> 81\u001B[0m \u001B[43m        \u001B[49m\u001B[38;5;28;43;01mfor\u001B[39;49;00m\u001B[43m \u001B[49m\u001B[43mresult\u001B[49m\u001B[43m \u001B[49m\u001B[38;5;129;43;01min\u001B[39;49;00m\u001B[43m \u001B[49m\u001B[43mtqdm\u001B[49m\u001B[43m(\u001B[49m\u001B[43mdisease_dicts\u001B[49m\u001B[43m,\u001B[49m\u001B[43m \u001B[49m\u001B[43mtotal\u001B[49m\u001B[38;5;241;43m=\u001B[39;49m\u001B[38;5;28;43mlen\u001B[39;49m\u001B[43m(\u001B[49m\u001B[43msamples\u001B[49m\u001B[43m)\u001B[49m\u001B[43m,\u001B[49m\u001B[43m \u001B[49m\u001B[43mdesc\u001B[49m\u001B[38;5;241;43m=\u001B[39;49m\u001B[38;5;124;43m\"\u001B[39;49m\u001B[38;5;124;43mDiseases\u001B[39;49m\u001B[38;5;124;43m\"\u001B[39;49m\u001B[43m)\u001B[49m\u001B[43m:\u001B[49m\n\u001B[1;32m     82\u001B[0m \u001B[43m            \u001B[49m\u001B[43mpatient_dict\u001B[49m\u001B[43m \u001B[49m\u001B[38;5;241;43m=\u001B[39;49m\u001B[43m \u001B[49m\u001B[43m{\u001B[49m\u001B[38;5;241;43m*\u001B[39;49m\u001B[38;5;241;43m*\u001B[39;49m\u001B[43mpatient_dict\u001B[49m\u001B[43m,\u001B[49m\u001B[43m \u001B[49m\u001B[38;5;241;43m*\u001B[39;49m\u001B[38;5;241;43m*\u001B[39;49m\u001B[43mresult\u001B[49m\u001B[43m}\u001B[49m\n\u001B[1;32m     83\u001B[0m \u001B[38;5;28;01melse\u001B[39;00m:\n",
      "File \u001B[0;32m~/PythonProject/setsim/.venv/lib/python3.12/site-packages/tqdm/std.py:1181\u001B[0m, in \u001B[0;36mtqdm.__iter__\u001B[0;34m(self)\u001B[0m\n\u001B[1;32m   1178\u001B[0m time \u001B[38;5;241m=\u001B[39m \u001B[38;5;28mself\u001B[39m\u001B[38;5;241m.\u001B[39m_time\n\u001B[1;32m   1180\u001B[0m \u001B[38;5;28;01mtry\u001B[39;00m:\n\u001B[0;32m-> 1181\u001B[0m \u001B[43m    \u001B[49m\u001B[38;5;28;43;01mfor\u001B[39;49;00m\u001B[43m \u001B[49m\u001B[43mobj\u001B[49m\u001B[43m \u001B[49m\u001B[38;5;129;43;01min\u001B[39;49;00m\u001B[43m \u001B[49m\u001B[43miterable\u001B[49m\u001B[43m:\u001B[49m\n\u001B[1;32m   1182\u001B[0m \u001B[43m        \u001B[49m\u001B[38;5;28;43;01myield\u001B[39;49;00m\u001B[43m \u001B[49m\u001B[43mobj\u001B[49m\n\u001B[1;32m   1183\u001B[0m \u001B[43m        \u001B[49m\u001B[38;5;66;43;03m# Update and possibly print the progressbar.\u001B[39;49;00m\n\u001B[1;32m   1184\u001B[0m \u001B[43m        \u001B[49m\u001B[38;5;66;43;03m# Note: does not call self.update(1) for speed optimisation.\u001B[39;49;00m\n",
      "File \u001B[0;32m/opt/homebrew/Cellar/python@3.12/3.12.3/Frameworks/Python.framework/Versions/3.12/lib/python3.12/multiprocessing/pool.py:451\u001B[0m, in \u001B[0;36m<genexpr>\u001B[0;34m(.0)\u001B[0m\n\u001B[1;32m    443\u001B[0m result \u001B[38;5;241m=\u001B[39m IMapUnorderedIterator(\u001B[38;5;28mself\u001B[39m)\n\u001B[1;32m    444\u001B[0m \u001B[38;5;28mself\u001B[39m\u001B[38;5;241m.\u001B[39m_taskqueue\u001B[38;5;241m.\u001B[39mput(\n\u001B[1;32m    445\u001B[0m     (\n\u001B[1;32m    446\u001B[0m         \u001B[38;5;28mself\u001B[39m\u001B[38;5;241m.\u001B[39m_guarded_task_generation(result\u001B[38;5;241m.\u001B[39m_job,\n\u001B[0;32m   (...)\u001B[0m\n\u001B[1;32m    449\u001B[0m         result\u001B[38;5;241m.\u001B[39m_set_length\n\u001B[1;32m    450\u001B[0m     ))\n\u001B[0;32m--> 451\u001B[0m \u001B[38;5;28;01mreturn\u001B[39;00m \u001B[43m(\u001B[49m\u001B[43mitem\u001B[49m\u001B[43m \u001B[49m\u001B[38;5;28;43;01mfor\u001B[39;49;00m\u001B[43m \u001B[49m\u001B[43mchunk\u001B[49m\u001B[43m \u001B[49m\u001B[38;5;129;43;01min\u001B[39;49;00m\u001B[43m \u001B[49m\u001B[43mresult\u001B[49m\u001B[43m \u001B[49m\u001B[38;5;28;43;01mfor\u001B[39;49;00m\u001B[43m \u001B[49m\u001B[43mitem\u001B[49m\u001B[43m \u001B[49m\u001B[38;5;129;43;01min\u001B[39;49;00m\u001B[43m \u001B[49m\u001B[43mchunk\u001B[49m\u001B[43m)\u001B[49m\n",
      "File \u001B[0;32m/opt/homebrew/Cellar/python@3.12/3.12.3/Frameworks/Python.framework/Versions/3.12/lib/python3.12/multiprocessing/pool.py:873\u001B[0m, in \u001B[0;36mIMapIterator.next\u001B[0;34m(self, timeout)\u001B[0m\n\u001B[1;32m    871\u001B[0m \u001B[38;5;28;01mif\u001B[39;00m success:\n\u001B[1;32m    872\u001B[0m     \u001B[38;5;28;01mreturn\u001B[39;00m value\n\u001B[0;32m--> 873\u001B[0m \u001B[38;5;28;01mraise\u001B[39;00m value\n",
      "\u001B[0;31mValueError\u001B[0m: Root HP:0000118 is not in provided HPO!"
     ]
    }
   ],
   "source": [
    "from setsim.matrix import SimilarityMatrix\n",
    "# Need to change this to include all methods\n",
    "methods = ['phenomizer', 'count', 'simici', 'phenomizer', 'count', 'simici', 'phrank', 'jaccard', 'simgic', 'simgci']\n",
    "\n",
    "# Run Sim Matrix\n",
    "sim_matrix = SimilarityMatrix(hpo=hpo,\n",
    "                              chunksize=13, # Chunksize refers to the number of diseases per \"chunk\". \n",
    "                                           # Smaller chunksizes are often optimal because diseases with more features take longer to run.\n",
    "                              delta_ic_dict=delta_ic_dict, # Used for simici and simgci\n",
    "                              ic_dict=ic_dict, # Used for phenomizer and simgic\n",
    "                              bayes_ic_dict=bayes_ic_dict, # Used for phrank\n",
    "                              n_iter_distribution=0, # This is 0 because we aren't calculating p-values\n",
    "                              num_features_distribution = 1,\n",
    "                              num_cpus=15,\n",
    "                              patients=samples_30p,\n",
    "                              similarity_methods=methods,\n",
    "                              multiprocess=True\n",
    "                              )\n",
    "results = sim_matrix.compute_person2person_similarities(samples_30p)"
   ]
  },
  {
   "cell_type": "code",
   "execution_count": 14,
   "id": "ed566e62-1cc2-4572-b7aa-d97091132136",
   "metadata": {},
   "outputs": [
    {
     "data": {
      "text/html": [
       "<div>\n",
       "<style scoped>\n",
       "    .dataframe tbody tr th:only-of-type {\n",
       "        vertical-align: middle;\n",
       "    }\n",
       "\n",
       "    .dataframe tbody tr th {\n",
       "        vertical-align: top;\n",
       "    }\n",
       "\n",
       "    .dataframe thead th {\n",
       "        text-align: right;\n",
       "    }\n",
       "</style>\n",
       "<table border=\"1\" class=\"dataframe\">\n",
       "  <thead>\n",
       "    <tr style=\"text-align: right;\">\n",
       "      <th></th>\n",
       "      <th>disease_id</th>\n",
       "      <th>num_features</th>\n",
       "      <th>Individual 28_phenomizer_sim</th>\n",
       "      <th>Individual 28_count_sim</th>\n",
       "      <th>Individual 28_simici_sim</th>\n",
       "      <th>Individual 31_phenomizer_sim</th>\n",
       "      <th>Individual 31_count_sim</th>\n",
       "      <th>Individual 31_simici_sim</th>\n",
       "      <th>Individual 76_phenomizer_sim</th>\n",
       "      <th>Individual 76_count_sim</th>\n",
       "      <th>...</th>\n",
       "      <th>34 _simici_sim</th>\n",
       "      <th>26 (twin of patient 25)_phenomizer_sim</th>\n",
       "      <th>26 (twin of patient 25)_count_sim</th>\n",
       "      <th>26 (twin of patient 25)_simici_sim</th>\n",
       "      <th>24 (mother of patients 25 and 26)_phenomizer_sim</th>\n",
       "      <th>24 (mother of patients 25 and 26)_count_sim</th>\n",
       "      <th>24 (mother of patients 25 and 26)_simici_sim</th>\n",
       "      <th>33 (also see Urreizti et al AJMG 2016, patient P6, for phenotypic description)_phenomizer_sim</th>\n",
       "      <th>33 (also see Urreizti et al AJMG 2016, patient P6, for phenotypic description)_count_sim</th>\n",
       "      <th>33 (also see Urreizti et al AJMG 2016, patient P6, for phenotypic description)_simici_sim</th>\n",
       "    </tr>\n",
       "  </thead>\n",
       "  <tbody>\n",
       "    <tr>\n",
       "      <th>43</th>\n",
       "      <td>OMIM:617140</td>\n",
       "      <td>21</td>\n",
       "      <td>0.472742</td>\n",
       "      <td>14.0</td>\n",
       "      <td>4.844663</td>\n",
       "      <td>0.956359</td>\n",
       "      <td>30.0</td>\n",
       "      <td>12.278309</td>\n",
       "      <td>0.940891</td>\n",
       "      <td>30.0</td>\n",
       "      <td>...</td>\n",
       "      <td>7.557433</td>\n",
       "      <td>0.725357</td>\n",
       "      <td>19.0</td>\n",
       "      <td>7.132501</td>\n",
       "      <td>0.954753</td>\n",
       "      <td>30.0</td>\n",
       "      <td>10.643218</td>\n",
       "      <td>1.538135</td>\n",
       "      <td>52.0</td>\n",
       "      <td>20.605697</td>\n",
       "    </tr>\n",
       "    <tr>\n",
       "      <th>6</th>\n",
       "      <td>OMIM:617140</td>\n",
       "      <td>13</td>\n",
       "      <td>0.765011</td>\n",
       "      <td>13.0</td>\n",
       "      <td>4.912108</td>\n",
       "      <td>1.371874</td>\n",
       "      <td>24.0</td>\n",
       "      <td>11.559063</td>\n",
       "      <td>1.151293</td>\n",
       "      <td>17.0</td>\n",
       "      <td>...</td>\n",
       "      <td>7.844645</td>\n",
       "      <td>0.815254</td>\n",
       "      <td>15.0</td>\n",
       "      <td>5.495117</td>\n",
       "      <td>1.047183</td>\n",
       "      <td>17.0</td>\n",
       "      <td>6.738498</td>\n",
       "      <td>1.449316</td>\n",
       "      <td>26.0</td>\n",
       "      <td>11.168889</td>\n",
       "    </tr>\n",
       "    <tr>\n",
       "      <th>38</th>\n",
       "      <td>OMIM:617140</td>\n",
       "      <td>10</td>\n",
       "      <td>1.347760</td>\n",
       "      <td>16.0</td>\n",
       "      <td>9.805472</td>\n",
       "      <td>1.468438</td>\n",
       "      <td>18.0</td>\n",
       "      <td>11.012247</td>\n",
       "      <td>1.211741</td>\n",
       "      <td>17.0</td>\n",
       "      <td>...</td>\n",
       "      <td>8.691087</td>\n",
       "      <td>0.797336</td>\n",
       "      <td>10.0</td>\n",
       "      <td>3.589712</td>\n",
       "      <td>1.155550</td>\n",
       "      <td>18.0</td>\n",
       "      <td>6.295353</td>\n",
       "      <td>1.437442</td>\n",
       "      <td>21.0</td>\n",
       "      <td>8.316940</td>\n",
       "    </tr>\n",
       "    <tr>\n",
       "      <th>45</th>\n",
       "      <td>OMIM:617140</td>\n",
       "      <td>11</td>\n",
       "      <td>1.071033</td>\n",
       "      <td>22.0</td>\n",
       "      <td>8.955370</td>\n",
       "      <td>1.192341</td>\n",
       "      <td>27.0</td>\n",
       "      <td>9.459466</td>\n",
       "      <td>1.311160</td>\n",
       "      <td>31.0</td>\n",
       "      <td>...</td>\n",
       "      <td>6.951520</td>\n",
       "      <td>1.076644</td>\n",
       "      <td>29.0</td>\n",
       "      <td>9.853715</td>\n",
       "      <td>1.038379</td>\n",
       "      <td>28.0</td>\n",
       "      <td>7.412090</td>\n",
       "      <td>1.334125</td>\n",
       "      <td>40.0</td>\n",
       "      <td>12.024259</td>\n",
       "    </tr>\n",
       "    <tr>\n",
       "      <th>7</th>\n",
       "      <td>OMIM:617140</td>\n",
       "      <td>14</td>\n",
       "      <td>1.065502</td>\n",
       "      <td>22.0</td>\n",
       "      <td>11.711275</td>\n",
       "      <td>1.123776</td>\n",
       "      <td>23.0</td>\n",
       "      <td>11.284843</td>\n",
       "      <td>0.937355</td>\n",
       "      <td>25.0</td>\n",
       "      <td>...</td>\n",
       "      <td>7.454588</td>\n",
       "      <td>0.752311</td>\n",
       "      <td>23.0</td>\n",
       "      <td>7.897811</td>\n",
       "      <td>1.087707</td>\n",
       "      <td>30.0</td>\n",
       "      <td>11.085999</td>\n",
       "      <td>1.596474</td>\n",
       "      <td>43.0</td>\n",
       "      <td>17.411394</td>\n",
       "    </tr>\n",
       "    <tr>\n",
       "      <th>...</th>\n",
       "      <td>...</td>\n",
       "      <td>...</td>\n",
       "      <td>...</td>\n",
       "      <td>...</td>\n",
       "      <td>...</td>\n",
       "      <td>...</td>\n",
       "      <td>...</td>\n",
       "      <td>...</td>\n",
       "      <td>...</td>\n",
       "      <td>...</td>\n",
       "      <td>...</td>\n",
       "      <td>...</td>\n",
       "      <td>...</td>\n",
       "      <td>...</td>\n",
       "      <td>...</td>\n",
       "      <td>...</td>\n",
       "      <td>...</td>\n",
       "      <td>...</td>\n",
       "      <td>...</td>\n",
       "      <td>...</td>\n",
       "      <td>...</td>\n",
       "    </tr>\n",
       "    <tr>\n",
       "      <th>1</th>\n",
       "      <td>OMIM:130050</td>\n",
       "      <td>3</td>\n",
       "      <td>0.000000</td>\n",
       "      <td>1.0</td>\n",
       "      <td>0.000000</td>\n",
       "      <td>0.000000</td>\n",
       "      <td>1.0</td>\n",
       "      <td>0.000000</td>\n",
       "      <td>0.760063</td>\n",
       "      <td>2.0</td>\n",
       "      <td>...</td>\n",
       "      <td>1.636312</td>\n",
       "      <td>0.760063</td>\n",
       "      <td>2.0</td>\n",
       "      <td>1.140094</td>\n",
       "      <td>1.090875</td>\n",
       "      <td>3.0</td>\n",
       "      <td>1.636312</td>\n",
       "      <td>0.000000</td>\n",
       "      <td>1.0</td>\n",
       "      <td>0.000000</td>\n",
       "    </tr>\n",
       "    <tr>\n",
       "      <th>13</th>\n",
       "      <td>OMIM:130050</td>\n",
       "      <td>6</td>\n",
       "      <td>0.124606</td>\n",
       "      <td>3.0</td>\n",
       "      <td>0.747637</td>\n",
       "      <td>0.290466</td>\n",
       "      <td>7.0</td>\n",
       "      <td>1.742797</td>\n",
       "      <td>0.670498</td>\n",
       "      <td>8.0</td>\n",
       "      <td>...</td>\n",
       "      <td>5.325479</td>\n",
       "      <td>0.605408</td>\n",
       "      <td>8.0</td>\n",
       "      <td>2.492356</td>\n",
       "      <td>1.446542</td>\n",
       "      <td>17.0</td>\n",
       "      <td>7.518631</td>\n",
       "      <td>1.202832</td>\n",
       "      <td>15.0</td>\n",
       "      <td>7.216992</td>\n",
       "    </tr>\n",
       "    <tr>\n",
       "      <th>17</th>\n",
       "      <td>OMIM:130050</td>\n",
       "      <td>6</td>\n",
       "      <td>0.524558</td>\n",
       "      <td>7.0</td>\n",
       "      <td>3.147349</td>\n",
       "      <td>0.437142</td>\n",
       "      <td>14.0</td>\n",
       "      <td>4.767808</td>\n",
       "      <td>1.062257</td>\n",
       "      <td>17.0</td>\n",
       "      <td>...</td>\n",
       "      <td>2.164182</td>\n",
       "      <td>0.605408</td>\n",
       "      <td>8.0</td>\n",
       "      <td>2.492356</td>\n",
       "      <td>1.094949</td>\n",
       "      <td>20.0</td>\n",
       "      <td>7.483677</td>\n",
       "      <td>0.549511</td>\n",
       "      <td>18.0</td>\n",
       "      <td>5.847365</td>\n",
       "    </tr>\n",
       "    <tr>\n",
       "      <th>10</th>\n",
       "      <td>OMIM:130050</td>\n",
       "      <td>2</td>\n",
       "      <td>0.000000</td>\n",
       "      <td>1.0</td>\n",
       "      <td>0.000000</td>\n",
       "      <td>0.000000</td>\n",
       "      <td>1.0</td>\n",
       "      <td>0.000000</td>\n",
       "      <td>0.000000</td>\n",
       "      <td>1.0</td>\n",
       "      <td>...</td>\n",
       "      <td>4.797609</td>\n",
       "      <td>0.000000</td>\n",
       "      <td>1.0</td>\n",
       "      <td>0.000000</td>\n",
       "      <td>1.629540</td>\n",
       "      <td>7.0</td>\n",
       "      <td>3.734767</td>\n",
       "      <td>0.000000</td>\n",
       "      <td>1.0</td>\n",
       "      <td>0.000000</td>\n",
       "    </tr>\n",
       "    <tr>\n",
       "      <th>4</th>\n",
       "      <td>OMIM:130050</td>\n",
       "      <td>3</td>\n",
       "      <td>0.000000</td>\n",
       "      <td>1.0</td>\n",
       "      <td>0.000000</td>\n",
       "      <td>0.000000</td>\n",
       "      <td>1.0</td>\n",
       "      <td>0.000000</td>\n",
       "      <td>0.760063</td>\n",
       "      <td>2.0</td>\n",
       "      <td>...</td>\n",
       "      <td>3.734767</td>\n",
       "      <td>0.760063</td>\n",
       "      <td>2.0</td>\n",
       "      <td>1.140094</td>\n",
       "      <td>1.631797</td>\n",
       "      <td>7.0</td>\n",
       "      <td>3.734767</td>\n",
       "      <td>0.000000</td>\n",
       "      <td>1.0</td>\n",
       "      <td>0.000000</td>\n",
       "    </tr>\n",
       "  </tbody>\n",
       "</table>\n",
       "<p>2090 rows × 5981 columns</p>\n",
       "</div>"
      ],
      "text/plain": [
       "     disease_id  num_features  Individual 28_phenomizer_sim  \\\n",
       "43  OMIM:617140            21                      0.472742   \n",
       "6   OMIM:617140            13                      0.765011   \n",
       "38  OMIM:617140            10                      1.347760   \n",
       "45  OMIM:617140            11                      1.071033   \n",
       "7   OMIM:617140            14                      1.065502   \n",
       "..          ...           ...                           ...   \n",
       "1   OMIM:130050             3                      0.000000   \n",
       "13  OMIM:130050             6                      0.124606   \n",
       "17  OMIM:130050             6                      0.524558   \n",
       "10  OMIM:130050             2                      0.000000   \n",
       "4   OMIM:130050             3                      0.000000   \n",
       "\n",
       "    Individual 28_count_sim  Individual 28_simici_sim  \\\n",
       "43                     14.0                  4.844663   \n",
       "6                      13.0                  4.912108   \n",
       "38                     16.0                  9.805472   \n",
       "45                     22.0                  8.955370   \n",
       "7                      22.0                 11.711275   \n",
       "..                      ...                       ...   \n",
       "1                       1.0                  0.000000   \n",
       "13                      3.0                  0.747637   \n",
       "17                      7.0                  3.147349   \n",
       "10                      1.0                  0.000000   \n",
       "4                       1.0                  0.000000   \n",
       "\n",
       "    Individual 31_phenomizer_sim  Individual 31_count_sim  \\\n",
       "43                      0.956359                     30.0   \n",
       "6                       1.371874                     24.0   \n",
       "38                      1.468438                     18.0   \n",
       "45                      1.192341                     27.0   \n",
       "7                       1.123776                     23.0   \n",
       "..                           ...                      ...   \n",
       "1                       0.000000                      1.0   \n",
       "13                      0.290466                      7.0   \n",
       "17                      0.437142                     14.0   \n",
       "10                      0.000000                      1.0   \n",
       "4                       0.000000                      1.0   \n",
       "\n",
       "    Individual 31_simici_sim  Individual 76_phenomizer_sim  \\\n",
       "43                 12.278309                      0.940891   \n",
       "6                  11.559063                      1.151293   \n",
       "38                 11.012247                      1.211741   \n",
       "45                  9.459466                      1.311160   \n",
       "7                  11.284843                      0.937355   \n",
       "..                       ...                           ...   \n",
       "1                   0.000000                      0.760063   \n",
       "13                  1.742797                      0.670498   \n",
       "17                  4.767808                      1.062257   \n",
       "10                  0.000000                      0.000000   \n",
       "4                   0.000000                      0.760063   \n",
       "\n",
       "    Individual 76_count_sim  ...  34 _simici_sim  \\\n",
       "43                     30.0  ...        7.557433   \n",
       "6                      17.0  ...        7.844645   \n",
       "38                     17.0  ...        8.691087   \n",
       "45                     31.0  ...        6.951520   \n",
       "7                      25.0  ...        7.454588   \n",
       "..                      ...  ...             ...   \n",
       "1                       2.0  ...        1.636312   \n",
       "13                      8.0  ...        5.325479   \n",
       "17                     17.0  ...        2.164182   \n",
       "10                      1.0  ...        4.797609   \n",
       "4                       2.0  ...        3.734767   \n",
       "\n",
       "    26 (twin of patient 25)_phenomizer_sim  26 (twin of patient 25)_count_sim  \\\n",
       "43                                0.725357                               19.0   \n",
       "6                                 0.815254                               15.0   \n",
       "38                                0.797336                               10.0   \n",
       "45                                1.076644                               29.0   \n",
       "7                                 0.752311                               23.0   \n",
       "..                                     ...                                ...   \n",
       "1                                 0.760063                                2.0   \n",
       "13                                0.605408                                8.0   \n",
       "17                                0.605408                                8.0   \n",
       "10                                0.000000                                1.0   \n",
       "4                                 0.760063                                2.0   \n",
       "\n",
       "    26 (twin of patient 25)_simici_sim  \\\n",
       "43                            7.132501   \n",
       "6                             5.495117   \n",
       "38                            3.589712   \n",
       "45                            9.853715   \n",
       "7                             7.897811   \n",
       "..                                 ...   \n",
       "1                             1.140094   \n",
       "13                            2.492356   \n",
       "17                            2.492356   \n",
       "10                            0.000000   \n",
       "4                             1.140094   \n",
       "\n",
       "    24 (mother of patients 25 and 26)_phenomizer_sim  \\\n",
       "43                                          0.954753   \n",
       "6                                           1.047183   \n",
       "38                                          1.155550   \n",
       "45                                          1.038379   \n",
       "7                                           1.087707   \n",
       "..                                               ...   \n",
       "1                                           1.090875   \n",
       "13                                          1.446542   \n",
       "17                                          1.094949   \n",
       "10                                          1.629540   \n",
       "4                                           1.631797   \n",
       "\n",
       "    24 (mother of patients 25 and 26)_count_sim  \\\n",
       "43                                         30.0   \n",
       "6                                          17.0   \n",
       "38                                         18.0   \n",
       "45                                         28.0   \n",
       "7                                          30.0   \n",
       "..                                          ...   \n",
       "1                                           3.0   \n",
       "13                                         17.0   \n",
       "17                                         20.0   \n",
       "10                                          7.0   \n",
       "4                                           7.0   \n",
       "\n",
       "    24 (mother of patients 25 and 26)_simici_sim  \\\n",
       "43                                     10.643218   \n",
       "6                                       6.738498   \n",
       "38                                      6.295353   \n",
       "45                                      7.412090   \n",
       "7                                      11.085999   \n",
       "..                                           ...   \n",
       "1                                       1.636312   \n",
       "13                                      7.518631   \n",
       "17                                      7.483677   \n",
       "10                                      3.734767   \n",
       "4                                       3.734767   \n",
       "\n",
       "    33 (also see Urreizti et al AJMG 2016, patient P6, for phenotypic description)_phenomizer_sim  \\\n",
       "43                                           1.538135                                               \n",
       "6                                            1.449316                                               \n",
       "38                                           1.437442                                               \n",
       "45                                           1.334125                                               \n",
       "7                                            1.596474                                               \n",
       "..                                                ...                                               \n",
       "1                                            0.000000                                               \n",
       "13                                           1.202832                                               \n",
       "17                                           0.549511                                               \n",
       "10                                           0.000000                                               \n",
       "4                                            0.000000                                               \n",
       "\n",
       "    33 (also see Urreizti et al AJMG 2016, patient P6, for phenotypic description)_count_sim  \\\n",
       "43                                               52.0                                          \n",
       "6                                                26.0                                          \n",
       "38                                               21.0                                          \n",
       "45                                               40.0                                          \n",
       "7                                                43.0                                          \n",
       "..                                                ...                                          \n",
       "1                                                 1.0                                          \n",
       "13                                               15.0                                          \n",
       "17                                               18.0                                          \n",
       "10                                                1.0                                          \n",
       "4                                                 1.0                                          \n",
       "\n",
       "    33 (also see Urreizti et al AJMG 2016, patient P6, for phenotypic description)_simici_sim  \n",
       "43                                          20.605697                                          \n",
       "6                                           11.168889                                          \n",
       "38                                           8.316940                                          \n",
       "45                                          12.024259                                          \n",
       "7                                           17.411394                                          \n",
       "..                                                ...                                          \n",
       "1                                            0.000000                                          \n",
       "13                                           7.216992                                          \n",
       "17                                           5.847365                                          \n",
       "10                                           0.000000                                          \n",
       "4                                            0.000000                                          \n",
       "\n",
       "[2090 rows x 5981 columns]"
      ]
     },
     "execution_count": 14,
     "metadata": {},
     "output_type": "execute_result"
    }
   ],
   "source": [
    "results"
   ]
  },
  {
   "cell_type": "markdown",
   "id": "6467e823",
   "metadata": {},
   "source": [
    "# Next Steps\n",
    "(The rest of the code is an old model.)\n",
    "## For one iteration:\n",
    "    Select 5 diseases (from those with 30 patients)\n",
    "    From results dataframe, keep rows and columns of individuals with 1 of five diseases only\n",
    "    For each method:\n",
    "        create similarity matrix from selected results\n",
    "        Run kmeans with 5 clusters\n",
    "        Get fraction of individuals that are correctly clustered\n",
    "\n",
    "## Overall\n",
    "    Repeat for 100-1000 unique combinations of diseases\n",
    "    Calculate p-values\n",
    "    Repeat for noisy patients\n",
    "        Don't need to recalculate ic_dict \n",
    "        Start by rerunning SimilarityMatrix"
   ]
  },
  {
   "cell_type": "code",
   "execution_count": null,
   "id": "67f6c3db-1eec-47e4-9a77-0297c723196b",
   "metadata": {},
   "outputs": [],
   "source": [
    "similarity_matrices"
   ]
  },
  {
   "cell_type": "code",
   "execution_count": null,
   "id": "d13e7bc8-92d2-4f2d-a9f5-fb440a13e783",
   "metadata": {},
   "outputs": [],
   "source": [
    "# create list of a thousand lists of 5 diseases\n",
    "\n",
    "# iterate through lists\n",
    "for disease_subset in diseases_sets:\n",
    "    "
   ]
  },
  {
   "cell_type": "code",
   "execution_count": null,
   "id": "7c47ff6c-4a9b-4611-833b-a18d0b1e7509",
   "metadata": {},
   "outputs": [],
   "source": [
    "def roc_score(pred, standard, cluster_diseases_list):\n",
    "    disease_list = list(set(standard))\n",
    "    tpr_fpr = {}\n",
    "    total_true_pos = 0\n",
    "    for d in cluster_diseases_list:\n",
    "        cluster_assignment = [pred[i] for i in range(len(standard)) if standard[i] == d]\n",
    "        assignment_count = Counter(cluster_assignment)\n",
    "        disease_cluster = max(assignment_count, key=assignment_count.get)\n",
    "        true_pos = assignment_count[disease_cluster]        \n",
    "        total_true_pos = total_true_pos + true_pos\n",
    "        false_pos = sum(True if pred[i] == disease_cluster else False for i in range(len(standard)) if standard[i] != d)\n",
    "        #true_neg = len(pred) - false_pos - len(cluster_assignment)\n",
    "        tpr_fpr[d] = (true_pos/len(cluster_assignment), false_pos/(len(pred) - len(cluster_assignment)))\n",
    "    tpr_fpr[\"total_true_pos\"] = total_true_pos/len(pred)\n",
    "    return tpr_fpr"
   ]
  },
  {
   "cell_type": "code",
   "execution_count": null,
   "id": "4725a517-564b-40da-82f5-1a45b02ed41c",
   "metadata": {},
   "outputs": [],
   "source": [
    "from sklearn.cluster import KMeans\n",
    "from collections import Counter\n",
    "\n",
    "scores = {}\n",
    "for method in methods:\n",
    "    cols = [col for col in similarity_matrices.columns if f\"_{method}_sim\" in col]\n",
    "    kmeans = KMeans(n_clusters=5, random_state=42, n_init=\"auto\").fit(similarity_matrices[cols])\n",
    "    scores[method] = roc_score(kmeans.fit_predict(similarity_matrices[cols])[:-20], similarity_matrices[\"disease_id\"].iloc[:-20], cluster_diseases_list)"
   ]
  },
  {
   "cell_type": "code",
   "execution_count": null,
   "id": "9c1ed9d5-3cc0-432d-a027-004931900551",
   "metadata": {},
   "outputs": [],
   "source": [
    "import umap\n",
    "simgci_cols = [col for col in similarity_matrices.columns if \"simgci\" in col]\n",
    "simgci_df = similarity_matrices[simgci_cols]\n",
    "pc_sim_matrix = umap.UMAP(random_state=42).fit_transform(simgci_df)\n",
    "similarity_matrices[\"UMAP 1\"] = pc_sim_matrix[:,0]\n",
    "similarity_matrices[\"UMAP 2\"] = pc_sim_matrix[:,1]\n"
   ]
  },
  {
   "cell_type": "code",
   "execution_count": null,
   "id": "0ee4c4d2-aa5d-4963-a72f-f0162412b108",
   "metadata": {},
   "outputs": [],
   "source": [
    "cluster_disease_values = [dis.identifier.value for dis in cluster_diseases]\n",
    "similarity_matrices[\"Disease\"] = [dis if dis in cluster_disease_values else \"control\" for dis in similarity_matrices[\"disease_id\"]]"
   ]
  },
  {
   "cell_type": "code",
   "execution_count": null,
   "id": "5cbbda14-543a-4ed0-8e81-cc416125d1ee",
   "metadata": {},
   "outputs": [],
   "source": [
    "import seaborn as sns\n",
    "import matplotlib.pyplot as plt\n",
    "sns.set(rc={'figure.figsize':(11.7,8.27)})\n",
    "g = sns.scatterplot(data=similarity_matrices, x=\"UMAP 1\", y=\"UMAP 2\",hue=\"Disease\", palette=\"bright\", alpha = 0.5)\n",
    "sns.move_legend(g, \"lower left\")\n",
    "#g.set_ylim(0, 15)\n",
    "#g.set_xlim(0, 15)\n",
    "plt.savefig(\"simgci_cluster.png\")"
   ]
  },
  {
   "cell_type": "markdown",
   "id": "891d80ad-fed8-4c0f-b836-5776d80fc4b0",
   "metadata": {},
   "source": [
    "## Repeat for noisy patients"
   ]
  },
  {
   "cell_type": "code",
   "execution_count": null,
   "id": "a7d7dcbe-5666-424a-9c78-d97d60121f93",
   "metadata": {},
   "outputs": [],
   "source": [
    "clustering_samples = [sample for sample in noisy_samples if sample.disease_identifier.identifier.value in cluster_diseases_list]\n",
    "clustering_samples = clustering_samples + [noisy_samples[i] for i in extra_sample_index]"
   ]
  },
  {
   "cell_type": "code",
   "execution_count": null,
   "id": "ef575cc7-8534-420d-8027-4a54318474b4",
   "metadata": {},
   "outputs": [],
   "source": [
    "b_mark = Benchmark(hpo=hp,\n",
    "                   chunksize=4,\n",
    "                   delta_ic_dict=delta_ic_dict, \n",
    "                   bayes_ic_dict = bayes_ic_dict,\n",
    "                   ic_dict=ic_dict,\n",
    "                   mica_dict=mica_dict,\n",
    "                   n_iter_distribution=0,\n",
    "                   num_cpus=14,\n",
    "                   num_features_distribution=30,\n",
    "                   patients=clustering_samples,\n",
    "                   similarity_methods = methods,\n",
    "                   multiprocess=True\n",
    "                  )\n",
    "similarity_matrices_noisy = b_mark.compute_person2person_similarities(clustering_samples)"
   ]
  },
  {
   "cell_type": "code",
   "execution_count": null,
   "id": "ef61ebbc-5df2-4fa8-87f3-925a679f9df8",
   "metadata": {},
   "outputs": [],
   "source": [
    "scores_noisy = {}\n",
    "for method in methods:\n",
    "    cols = [col for col in similarity_matrices_noisy.columns if f\"_{method}_sim\" in col]\n",
    "    kmeans = KMeans(n_clusters=5, random_state=42, n_init=\"auto\").fit(similarity_matrices_noisy[cols])\n",
    "    scores_noisy[method] = roc_score(kmeans.fit_predict(similarity_matrices_noisy[cols])[:-20], similarity_matrices_noisy[\"disease_id\"].iloc[:-20], cluster_diseases_list)"
   ]
  },
  {
   "cell_type": "code",
   "execution_count": null,
   "id": "ae8cb3e5-45d5-4e97-a4f0-d106ded6c0af",
   "metadata": {},
   "outputs": [],
   "source": [
    "df_arrange_results = pd.DataFrame(scores).transpose()\n",
    "df_arrange_results['samples'] = 'normal'\n",
    "df_arrange_results = df_arrange_results[['total_true_pos','samples']]\n",
    "\n",
    "df_ar_noisy = pd.DataFrame(scores_noisy).transpose()\n",
    "df_ar_noisy['samples'] = 'noisy'\n",
    "df_ar_noisy = df_ar_noisy[['total_true_pos','samples']]"
   ]
  },
  {
   "cell_type": "code",
   "execution_count": null,
   "id": "70b1201b-0231-4565-9a3d-e4208e6b05ca",
   "metadata": {},
   "outputs": [],
   "source": [
    "graphable_results = pd.concat([df_arrange_results, df_ar_noisy])"
   ]
  },
  {
   "cell_type": "code",
   "execution_count": null,
   "id": "f79631af-ac7e-496d-8579-5723b05a143f",
   "metadata": {},
   "outputs": [],
   "source": [
    "original_names = [\"phenomizer\", \"sumsim\", \"phrank\", \"jaccard\", \"simgic\", \"simcic\", \"count\"]\n",
    "new_names = [\"Phenomizer\", \"SimICI\", \"Phrank\", \"Jaccard\", \"SimGIC\", \"SimGCI\", \"Count\"]\n",
    "name_conversion = {k: v for k, v in zip(original_names, new_names)}\n",
    "graphable_results.index = [name_conversion[idx] for idx in graphable_results.index]\n",
    "graphable_results[\"algorithm\"] = graphable_results.index.tolist()"
   ]
  },
  {
   "cell_type": "code",
   "execution_count": null,
   "id": "803de113-8c81-4023-bc7a-4fec2fee066c",
   "metadata": {},
   "outputs": [],
   "source": [
    "graphable_results"
   ]
  },
  {
   "cell_type": "code",
   "execution_count": null,
   "id": "2211517d-e912-4c1c-b65a-bea61b1596d3",
   "metadata": {},
   "outputs": [],
   "source": [
    "import seaborn as sns\n",
    "g = sns.catplot(data=graphable_results, \n",
    "                hue = \"algorithm\", \n",
    "                y='total_true_pos', \n",
    "                x='samples', \n",
    "                order = ['normal','noisy'], \n",
    "                kind=\"point\", \n",
    "                hue_order=[\"Phenomizer\", \"Count\", \"SimICI\", \"Phrank\", \"Jaccard\", \"SimGIC\", \"SimGCI\"])\n",
    "g.set(ylabel='Fraction Correctly Clustered')"
   ]
  },
  {
   "cell_type": "code",
   "execution_count": null,
   "id": "c3ef544d-e72d-49f7-b144-f0e7ba36c81a",
   "metadata": {},
   "outputs": [],
   "source": [
    "g.savefig(\"clustering.png\")"
   ]
  },
  {
   "cell_type": "code",
   "execution_count": null,
   "id": "e237475c-37c8-4566-91c1-93fe0a0e1b01",
   "metadata": {},
   "outputs": [],
   "source": []
  }
 ],
 "metadata": {
  "kernelspec": {
   "display_name": "Python 3 (ipykernel)",
   "language": "python",
   "name": "python3"
  },
  "language_info": {
   "codemirror_mode": {
    "name": "ipython",
    "version": 3
   },
   "file_extension": ".py",
   "mimetype": "text/x-python",
   "name": "python",
   "nbconvert_exporter": "python",
   "pygments_lexer": "ipython3",
   "version": "3.11.9"
  }
 },
 "nbformat": 4,
 "nbformat_minor": 5
}
