{
 "cells": [
  {
   "cell_type": "markdown",
   "id": "6740f435-7af6-43b6-b13a-a20d0b1adb94",
   "metadata": {},
   "source": [
    "# Gather Resources\n",
    "To begin, we must have three important resources with the following instructions:\n",
    "1. Download the Human Phenotype Ontology (hpo) in json format by going to hpo.jax.org/app/data/ontology and selecting \"DOWNLOAD LATEST HP.JSON\".\n",
    "2. Download the hpo annotation file which contains disease annotations by going to hpo.jax.org/app/data/annotations and selecting \"DOWNLOAD HPO ANNOTATIONS\".\n",
    "3. Clone the git repository hosted at https://github.com/monarch-initiative/phenopacket-store to your local machine. We will be using the folder phenopacket-store/notebooks in this tutorial as a resource of phenopackets of real individuals."
   ]
  },
  {
   "cell_type": "code",
   "execution_count": 1,
   "id": "ddefa4ac-fe46-4f64-885b-257502942722",
   "metadata": {},
   "outputs": [],
   "source": [
    "# Record paths for resouces collected above\n",
    "fpath_hpo: str = '/home/bcoleman/Projects/human-phenotype-ontology/src/ontology/hp.json' # path for hpo.json file\n",
    "fpath_phenopackets = '/home/bcoleman/Projects/phenopacket-store/notebooks' # path for phenopackets-store notebooks\n",
    "fpath_hpoa = '/home/bcoleman/Downloads/phenotype.hpoa' # path for hpo phenotype.hpoa file"
   ]
  },
  {
   "cell_type": "markdown",
   "id": "d1802712-7273-4b84-a6e9-9231eecd1a09",
   "metadata": {},
   "source": [
    "# Declare Variables"
   ]
  },
  {
   "cell_type": "code",
   "execution_count": 2,
   "id": "7a433864-71a1-4425-9d1b-5f77f41bb403",
   "metadata": {},
   "outputs": [],
   "source": [
    "# Choose similarity algorithms\n",
    "methods = ['phenomizer', 'count', 'simici', 'phrank', 'jaccard', 'simgic', 'simgci']\n",
    "\n",
    "# P-value based similarities use artificial individuals to make a null distribution to calculate p-values.\n",
    "# Similarities of real individuals are compared to those of artificial individuals with the same number of features.\n",
    "# Choose the maximum number of features for artificial individuals and the number of artificial individuals to use.\n",
    "# By setting null_dist_samples to 0, we will not calculate p-value similarities.\n",
    "# Hint: Increasing these settings will greatly increase runtime.\n",
    "num_features = 30 # number of features for artifical null distribution patients \n",
    "null_dist_samples = 1000 # number of individuals in null distribution\n",
    "\n",
    "# Choose the number of cpus to use.\n",
    "num_cpus = 6\n"
   ]
  },
  {
   "cell_type": "markdown",
   "id": "771d2c11-8e3d-4bfc-9cc8-4887186f50c5",
   "metadata": {},
   "source": [
    "# Load Resource Data"
   ]
  },
  {
   "cell_type": "code",
   "execution_count": 3,
   "id": "9d2c556a-25b3-4d7c-b840-723a7f52f304",
   "metadata": {},
   "outputs": [],
   "source": [
    "from hpotk.ontology.load.obographs import load_minimal_ontology\n",
    "from hpotk.ontology import MinimalOntology\n",
    "from sumsim.io import read_folder, read_hpoa\n",
    "import warnings\n",
    "\n",
    "# Import hpo.json file\n",
    "hpo: MinimalOntology = load_minimal_ontology(fpath_hpo)\n",
    "\n",
    "# Import samples. Recursive import finds phenopackets in subfolders.\n",
    "# read_folder and read_hpoa will generate warnings from phenopackets with redundant terms (ancestors of other included terms)\n",
    "# and terms that cannot be read. We will filter warnings for this step to silence these.\n",
    "warnings.filterwarnings('ignore')\n",
    "samples = read_folder(fpath_phenopackets, hpo, recursive = True)\n",
    "\n",
    "# Samples with no features should always have a similarity of 0. We will remove them to avoid problems.\n",
    "samples = [sample for sample in samples if len(sample.phenotypic_features) > 0]\n",
    "\n",
    "# Import diseases in a similar format to samples (individuals).\n",
    "diseases = read_hpoa(fpath_hpoa, hpo)\n",
    "\n",
    "# Turn warnings back to default\n",
    "warnings.filterwarnings('default')"
   ]
  },
  {
   "cell_type": "markdown",
   "id": "00f95b07-d63e-4239-a0a2-2e05b818f214",
   "metadata": {},
   "source": [
    "# Calculate Term Information Content (IC)"
   ]
  },
  {
   "cell_type": "code",
   "execution_count": 4,
   "id": "0192af1e-fd6b-448c-8e05-3985e38203c1",
   "metadata": {},
   "outputs": [],
   "source": [
    "from sumsim.sim import IcCalculator, IcTransformer\n",
    "\n",
    "# The IcCalculator class object will be used to create a dictionary with term ids and ic values.\n",
    "# IC values are calculated as the base 10 log of the number of diseases divided by the number of diseases annotated with that term.\n",
    "# Diseases are annotated with a term when the disease is annotated with that term or any of its descendants.\n",
    "calc = IcCalculator(hpo, multiprocess=True, progress_bar=True)\n",
    "ic_dict = calc.calculate_ic_from_diseases(diseases) # alternatively \"calculate_ic_from_samples\" can be used to calculate ic using feature \n",
    "                                                    # prevalence in samples.\n",
    "\n",
    "# The IcTransformer calculates the  conditional information for each term given its parents.\n",
    "# We only need to supply diseases if we are using the method, phrank, which requires additional information to approximate conditional information.\n",
    "transformer = IcTransformer(hpo, samples=diseases)\n",
    "delta_ic_dict = transformer.transform(ic_dict)\n",
    "bayes_ic_dict = transformer.transform(ic_dict, strategy=\"bayesian\") # Used for phrank"
   ]
  },
  {
   "cell_type": "markdown",
   "id": "dfbb271e-07f3-419b-82a2-70e30725d852",
   "metadata": {},
   "source": [
    "# Create \"Noisy\" Patients with common terms added (optional)"
   ]
  },
  {
   "cell_type": "code",
   "execution_count": 5,
   "id": "d1a1e810-c2d6-4d91-bf88-84fa2e066e8b",
   "metadata": {},
   "outputs": [
    {
     "name": "stdout",
     "output_type": "stream",
     "text": [
      "There are 142 common terms with IC equal to or less than ln(10) (2.302585092994046).\n",
      "The samples have an average of 8.625694671461261 terms after removing ancestors and duplicates.\n",
      "The noisy samples (with 20 random common terms added) have an average of 22.298790454396862 terms after removing ancestors and duplicates.\n"
     ]
    }
   ],
   "source": [
    "import math\n",
    "import random\n",
    "from statistics import mean\n",
    "from sumsim.model import Sample\n",
    "\n",
    "common_terms = [term for term in ic_dict.keys() if ic_dict[term] <= math.log(10)]\n",
    "noisy_samples = []\n",
    "for sample in samples:\n",
    "    noisy_features = list(sample.phenotypic_features) + list(random.sample(common_terms, 20))\n",
    "    noisy_label = sample.label + \"noisy\"\n",
    "    noisy_samples.append(\n",
    "        Sample(label=noisy_label, phenotypic_features=noisy_features, disease_identifier=sample.disease_identifier,\n",
    "               hpo=hpo))\n",
    "\n",
    "print(f\"There are {len(common_terms)} common terms with IC equal to or less than ln(10) ({math.log(10)}).\")\n",
    "print(f'The samples have an average of {mean([len(sample.phenotypic_features) for sample in samples])} terms after removing ancestors and duplicates.')\n",
    "print(f'The noisy samples (with 20 random common terms added) have an average of {mean([len(sample.phenotypic_features) for sample in noisy_samples])} terms after removing ancestors and duplicates.')\n",
    "\n",
    "samples = samples + noisy_samples"
   ]
  },
  {
   "cell_type": "markdown",
   "id": "73207022-8e16-44e8-a8ed-dae1d7e7bf41",
   "metadata": {},
   "source": [
    "# Only use diseases in samples (optional)\n",
    "For testing, consider only using diseases that are listed as a diagnosis in samples of interest to reduce runtime."
   ]
  },
  {
   "cell_type": "code",
   "execution_count": 6,
   "id": "ed544e40-4a90-4034-8efd-8aa592623e82",
   "metadata": {},
   "outputs": [
    {
     "name": "stdout",
     "output_type": "stream",
     "text": [
      "Number of unique diagnoses: 343\n",
      "Number of overlapping diseases: 317\n"
     ]
    }
   ],
   "source": [
    "used_diseases = set(sample.disease_identifier.identifier.value for sample in samples)\n",
    "diseases = [disease for disease in diseases if disease.identifier.value in used_diseases]\n",
    "print(f'Number of unique diagnoses: {len(used_diseases)}\\nNumber of overlapping diseases: {len(diseases)}')"
   ]
  },
  {
   "cell_type": "markdown",
   "id": "068924ce-5cdb-45bf-8375-0c8eb9b63028",
   "metadata": {},
   "source": [
    "# Calculate similarities between diseases and samples"
   ]
  },
  {
   "cell_type": "code",
   "execution_count": 7,
   "id": "6f11b187-6e59-4193-9f86-1eb957f9845b",
   "metadata": {},
   "outputs": [
    {
     "name": "stdout",
     "output_type": "stream",
     "text": [
      "There are 16 CPUs available for multiprocessing. Using 6 CPUs.\n"
     ]
    },
    {
     "name": "stderr",
     "output_type": "stream",
     "text": [
      "Diseases: 100%|███████████████████████████████| 317/317 [14:40<00:00,  2.78s/it]\n"
     ]
    }
   ],
   "source": [
    "from sumsim.matrix import SimilarityMatrix\n",
    "# Run Sim Matrix\n",
    "sim_matrix = SimilarityMatrix(hpo=hpo,\n",
    "                              chunksize=1, # Chunksize refers to the number of diseases per \"chunk\". \n",
    "                                           # Smaller chunksizes are often optimal because diseases with more features take longer to run.\n",
    "                              delta_ic_dict=delta_ic_dict, # Used for simici and simgci\n",
    "                              ic_dict=ic_dict, # Used for phenomizer and simgic\n",
    "                              bayes_ic_dict=bayes_ic_dict, # Used for phrank\n",
    "                              n_iter_distribution=null_dist_samples,\n",
    "                              num_cpus=num_cpus,\n",
    "                              num_features_distribution=num_features,\n",
    "                              patients=samples,\n",
    "                              similarity_methods=methods,\n",
    "                              multiprocess=True\n",
    "                              )\n",
    "results = sim_matrix.compute_diagnostic_similarities(diseases)"
   ]
  },
  {
   "cell_type": "markdown",
   "id": "8ac96331-c0a1-499b-a975-5357f398765a",
   "metadata": {},
   "source": [
    "# Find rank of correct diagnosis"
   ]
  },
  {
   "cell_type": "code",
   "execution_count": 8,
   "id": "37d4ab85-df66-4d0a-8967-b4eaae9258f8",
   "metadata": {},
   "outputs": [
    {
     "name": "stdout",
     "output_type": "stream",
     "text": [
      "Removing 1398  patients with a diagnosis not in the matrix.\n",
      "Keeping 4720 patients.\n",
      "There are 26 missing diagnoses.\n",
      "\n",
      "Removing 195 patients with more than 30 terms.\n",
      "Keeping 4525 patients.\n",
      "\n"
     ]
    },
    {
     "name": "stderr",
     "output_type": "stream",
     "text": [
      "/home/bcoleman/Projects/sumsim/src/sumsim/matrix/_rank.py:67: SettingWithCopyWarning: \n",
      "A value is trying to be set on a copy of a slice from a DataFrame\n",
      "\n",
      "See the caveats in the documentation: https://pandas.pydata.org/pandas-docs/stable/user_guide/indexing.html#returning-a-view-versus-a-copy\n",
      "  graphable[\"Test\"].loc[graphable[suffix_variable]] = [f\"{test} & {suffix_variable}\" for test in\n"
     ]
    }
   ],
   "source": [
    "from sumsim.matrix import Rank\n",
    "\n",
    "\n",
    "rank = Rank(results)\n",
    "rank.rank()\n",
    "\n",
    "# Rank.get_gaphable returns a pandas dataframe that can easily be used with seaborn for visualization.\n",
    "# Samples with more features than max_term_num will be removed.\n",
    "# The suffix_variable is the string we appended to the sample names earlier. It is used to separate out the \"noisy\" samples.\n",
    "rankings = rank.get_graphable(suffix_variable=\"noisy\", max_term_num=30)"
   ]
  },
  {
   "cell_type": "markdown",
   "id": "6b29dc04-8edd-4d82-ae85-d336aab8368c",
   "metadata": {},
   "source": [
    "# Graph Results"
   ]
  },
  {
   "cell_type": "code",
   "execution_count": 9,
   "id": "a350145d-133d-40cb-8dfc-0180e8afa83d",
   "metadata": {},
   "outputs": [
    {
     "data": {
      "text/plain": [
       "[Text(0, 0.5, 'rank')]"
      ]
     },
     "execution_count": 9,
     "metadata": {},
     "output_type": "execute_result"
    },
    {
     "data": {
      "image/png": "[encoded data removed]",
      "text/plain": [
       "<Figure size 640x480 with 1 Axes>"
      ]
     },
     "metadata": {},
     "output_type": "display_data"
    }
   ],
   "source": [
    "import seaborn as sns\n",
    "g = sns.boxplot(data=rankings, x = \"Test\", y='Rank', hue='Similarity Method',  hue_order=[\"Phenomizer\", \"Count\", \"SimICI\", \"Phrank\", \"Jaccard\", \"SimGCI\", \"SimGIC\"])\n",
    "g.set_yscale('log')\n",
    "g.set(ylabel='rank')"
   ]
  },
  {
   "cell_type": "markdown",
   "id": "67118caf-b671-4117-baff-254aa84351e0",
   "metadata": {},
   "source": [
    "# Save Results"
   ]
  },
  {
   "cell_type": "code",
   "execution_count": 10,
   "id": "8b3d4cac-72c3-4af1-a79c-d3ee82864f93",
   "metadata": {},
   "outputs": [],
   "source": [
    "# Record paths for data exports\n",
    "export_result_name = f'benchmark_results_m_{methods}_ndist_{null_dist_samples}_nfeatures_{num_features}.csv'\n",
    "export_rank_name = f'benchmark_rankings_m_{methods}_ndist_{null_dist_samples}_nfeatures_{num_features}.csv'\n",
    "\n",
    "# It is recommended that both results and rankings be saved\n",
    "results.to_csv(export_result_name)\n",
    "rankings.to_csv(export_rank_name)"
   ]
  }
 ],
 "metadata": {
  "kernelspec": {
   "display_name": "Python 3 (ipykernel)",
   "language": "python",
   "name": "python3"
  },
  "language_info": {
   "codemirror_mode": {
    "name": "ipython",
    "version": 3
   },
   "file_extension": ".py",
   "mimetype": "text/x-python",
   "name": "python",
   "nbconvert_exporter": "python",
   "pygments_lexer": "ipython3",
   "version": "3.8.18"
  }
 },
 "nbformat": 4,
 "nbformat_minor": 5
}
